{
 "cells": [
  {
   "cell_type": "code",
   "execution_count": 1,
   "id": "98d9a6a2",
   "metadata": {},
   "outputs": [],
   "source": [
    "import pandas as pd\n",
    "import numpy as np\n",
    "import scipy.stats as stats"
   ]
  },
  {
   "cell_type": "code",
   "execution_count": 2,
   "id": "a23b1d9b",
   "metadata": {},
   "outputs": [
    {
     "data": {
      "text/html": [
       "<div>\n",
       "<style scoped>\n",
       "    .dataframe tbody tr th:only-of-type {\n",
       "        vertical-align: middle;\n",
       "    }\n",
       "\n",
       "    .dataframe tbody tr th {\n",
       "        vertical-align: top;\n",
       "    }\n",
       "\n",
       "    .dataframe thead th {\n",
       "        text-align: right;\n",
       "    }\n",
       "</style>\n",
       "<table border=\"1\" class=\"dataframe\">\n",
       "  <thead>\n",
       "    <tr style=\"text-align: right;\">\n",
       "      <th></th>\n",
       "      <th>user_id</th>\n",
       "      <th>gmv</th>\n",
       "      <th>group_name</th>\n",
       "    </tr>\n",
       "  </thead>\n",
       "  <tbody>\n",
       "    <tr>\n",
       "      <th>0</th>\n",
       "      <td>myo4ixol31</td>\n",
       "      <td>1428</td>\n",
       "      <td>test</td>\n",
       "    </tr>\n",
       "    <tr>\n",
       "      <th>1</th>\n",
       "      <td>myo4ixol31</td>\n",
       "      <td>1428</td>\n",
       "      <td>test</td>\n",
       "    </tr>\n",
       "    <tr>\n",
       "      <th>2</th>\n",
       "      <td>myo4ixol31</td>\n",
       "      <td>1071</td>\n",
       "      <td>test</td>\n",
       "    </tr>\n",
       "    <tr>\n",
       "      <th>3</th>\n",
       "      <td>myo4ixol31</td>\n",
       "      <td>1071</td>\n",
       "      <td>test</td>\n",
       "    </tr>\n",
       "    <tr>\n",
       "      <th>4</th>\n",
       "      <td>pkzf2889ww</td>\n",
       "      <td>351</td>\n",
       "      <td>test</td>\n",
       "    </tr>\n",
       "    <tr>\n",
       "      <th>...</th>\n",
       "      <td>...</td>\n",
       "      <td>...</td>\n",
       "      <td>...</td>\n",
       "    </tr>\n",
       "    <tr>\n",
       "      <th>799056</th>\n",
       "      <td>egoeez9fs9</td>\n",
       "      <td>712</td>\n",
       "      <td>control</td>\n",
       "    </tr>\n",
       "    <tr>\n",
       "      <th>799057</th>\n",
       "      <td>egoeez9fs9</td>\n",
       "      <td>641</td>\n",
       "      <td>control</td>\n",
       "    </tr>\n",
       "    <tr>\n",
       "      <th>799058</th>\n",
       "      <td>egoeez9fs9</td>\n",
       "      <td>855</td>\n",
       "      <td>control</td>\n",
       "    </tr>\n",
       "    <tr>\n",
       "      <th>799059</th>\n",
       "      <td>da9kujvymq</td>\n",
       "      <td>1110</td>\n",
       "      <td>control</td>\n",
       "    </tr>\n",
       "    <tr>\n",
       "      <th>799060</th>\n",
       "      <td>da9kujvymq</td>\n",
       "      <td>1332</td>\n",
       "      <td>control</td>\n",
       "    </tr>\n",
       "  </tbody>\n",
       "</table>\n",
       "<p>799061 rows × 3 columns</p>\n",
       "</div>"
      ],
      "text/plain": [
       "           user_id   gmv group_name\n",
       "0       myo4ixol31  1428       test\n",
       "1       myo4ixol31  1428       test\n",
       "2       myo4ixol31  1071       test\n",
       "3       myo4ixol31  1071       test\n",
       "4       pkzf2889ww   351       test\n",
       "...            ...   ...        ...\n",
       "799056  egoeez9fs9   712    control\n",
       "799057  egoeez9fs9   641    control\n",
       "799058  egoeez9fs9   855    control\n",
       "799059  da9kujvymq  1110    control\n",
       "799060  da9kujvymq  1332    control\n",
       "\n",
       "[799061 rows x 3 columns]"
      ]
     },
     "execution_count": 2,
     "metadata": {},
     "output_type": "execute_result"
    }
   ],
   "source": [
    "df = pd.read_csv('synthetic_gmv_data_1.2.csv')\n",
    "df"
   ]
  },
  {
   "cell_type": "code",
   "execution_count": 3,
   "id": "6ac3e03c",
   "metadata": {},
   "outputs": [
    {
     "data": {
      "text/html": [
       "<div>\n",
       "<style scoped>\n",
       "    .dataframe tbody tr th:only-of-type {\n",
       "        vertical-align: middle;\n",
       "    }\n",
       "\n",
       "    .dataframe tbody tr th {\n",
       "        vertical-align: top;\n",
       "    }\n",
       "\n",
       "    .dataframe thead th {\n",
       "        text-align: right;\n",
       "    }\n",
       "</style>\n",
       "<table border=\"1\" class=\"dataframe\">\n",
       "  <thead>\n",
       "    <tr style=\"text-align: right;\">\n",
       "      <th></th>\n",
       "      <th>group_name</th>\n",
       "      <th>gmv</th>\n",
       "      <th>user_id</th>\n",
       "    </tr>\n",
       "  </thead>\n",
       "  <tbody>\n",
       "    <tr>\n",
       "      <th>0</th>\n",
       "      <td>control</td>\n",
       "      <td>733</td>\n",
       "      <td>1</td>\n",
       "    </tr>\n",
       "    <tr>\n",
       "      <th>1</th>\n",
       "      <td>test</td>\n",
       "      <td>3187</td>\n",
       "      <td>3</td>\n",
       "    </tr>\n",
       "    <tr>\n",
       "      <th>2</th>\n",
       "      <td>control</td>\n",
       "      <td>2933</td>\n",
       "      <td>6</td>\n",
       "    </tr>\n",
       "    <tr>\n",
       "      <th>3</th>\n",
       "      <td>test</td>\n",
       "      <td>1695</td>\n",
       "      <td>5</td>\n",
       "    </tr>\n",
       "    <tr>\n",
       "      <th>4</th>\n",
       "      <td>control</td>\n",
       "      <td>1496</td>\n",
       "      <td>4</td>\n",
       "    </tr>\n",
       "    <tr>\n",
       "      <th>...</th>\n",
       "      <td>...</td>\n",
       "      <td>...</td>\n",
       "      <td>...</td>\n",
       "    </tr>\n",
       "    <tr>\n",
       "      <th>196386</th>\n",
       "      <td>test</td>\n",
       "      <td>1141</td>\n",
       "      <td>2</td>\n",
       "    </tr>\n",
       "    <tr>\n",
       "      <th>196387</th>\n",
       "      <td>control</td>\n",
       "      <td>2364</td>\n",
       "      <td>4</td>\n",
       "    </tr>\n",
       "    <tr>\n",
       "      <th>196388</th>\n",
       "      <td>test</td>\n",
       "      <td>1923</td>\n",
       "      <td>4</td>\n",
       "    </tr>\n",
       "    <tr>\n",
       "      <th>196389</th>\n",
       "      <td>control</td>\n",
       "      <td>1235</td>\n",
       "      <td>2</td>\n",
       "    </tr>\n",
       "    <tr>\n",
       "      <th>196390</th>\n",
       "      <td>control</td>\n",
       "      <td>3579</td>\n",
       "      <td>5</td>\n",
       "    </tr>\n",
       "  </tbody>\n",
       "</table>\n",
       "<p>196391 rows × 3 columns</p>\n",
       "</div>"
      ],
      "text/plain": [
       "       group_name   gmv  user_id\n",
       "0         control   733        1\n",
       "1            test  3187        3\n",
       "2         control  2933        6\n",
       "3            test  1695        5\n",
       "4         control  1496        4\n",
       "...           ...   ...      ...\n",
       "196386       test  1141        2\n",
       "196387    control  2364        4\n",
       "196388       test  1923        4\n",
       "196389    control  1235        2\n",
       "196390    control  3579        5\n",
       "\n",
       "[196391 rows x 3 columns]"
      ]
     },
     "execution_count": 3,
     "metadata": {},
     "output_type": "execute_result"
    }
   ],
   "source": [
    "data = df.groupby(['user_id', 'group_name'], as_index=False).agg({'gmv': 'sum', 'user_id':'count'})\n",
    "data"
   ]
  },
  {
   "cell_type": "code",
   "execution_count": 8,
   "id": "5aee2779",
   "metadata": {},
   "outputs": [],
   "source": [
    "a = data.loc[data.group_name == 'control']\n",
    "b = data.loc[data.group_name == 'test']"
   ]
  },
  {
   "cell_type": "code",
   "execution_count": 4,
   "id": "1768c16c",
   "metadata": {},
   "outputs": [],
   "source": [
    "def safe_divide(x, y):\n",
    "    try:\n",
    "        return x / y\n",
    "    except ZeroDivisionError:\n",
    "        return np.nan"
   ]
  },
  {
   "cell_type": "markdown",
   "id": "e9e080dc",
   "metadata": {},
   "source": [
    "## Линеарализация"
   ]
  },
  {
   "cell_type": "code",
   "execution_count": 5,
   "id": "74435749",
   "metadata": {},
   "outputs": [],
   "source": [
    "def linearization_type_2(x_num, x_denom, y_num, y_denom):\n",
    "    n = len(x_num)\n",
    "    m = len(y_num)\n",
    "    x_num_bar = np.mean(x_num)\n",
    "    y_num_bar = np.mean(y_num)\n",
    "    x_denom_bar = np.mean(x_denom)\n",
    "    y_denom_bar = np.mean(y_denom)\n",
    "    x_estimator = safe_divide(x_num_bar, x_denom_bar)\n",
    "    y_estimator = safe_divide(y_num_bar, y_denom_bar)\n",
    "    delta_estimator = x_estimator - y_estimator\n",
    "    x_linear = x_estimator  + safe_divide(1, x_denom_bar)*(np.array(x_num) - x_estimator*np.array(x_denom))\n",
    "    y_linear = y_estimator  + safe_divide(1, y_denom_bar)*(np.array(y_num) - y_estimator*np.array(y_denom))\n",
    "    t_stat, p_value = stats.ttest_ind(x_linear, y_linear, equal_var=False)\n",
    "    return t_stat, p_value"
   ]
  },
  {
   "cell_type": "code",
   "execution_count": 9,
   "id": "d22c6954",
   "metadata": {},
   "outputs": [],
   "source": [
    "t, pvalue = linearization_type_2(a.gmv, a.user_id, b.gmv, b.user_id)"
   ]
  },
  {
   "cell_type": "code",
   "execution_count": 10,
   "id": "528a611b",
   "metadata": {},
   "outputs": [
    {
     "data": {
      "text/plain": [
       "(-2.344, 0.019)"
      ]
     },
     "execution_count": 10,
     "metadata": {},
     "output_type": "execute_result"
    }
   ],
   "source": [
    "round(t, 3), round(pvalue, 3)"
   ]
  }
 ],
 "metadata": {
  "kernelspec": {
   "display_name": "base",
   "language": "python",
   "name": "python3"
  },
  "language_info": {
   "codemirror_mode": {
    "name": "ipython",
    "version": 3
   },
   "file_extension": ".py",
   "mimetype": "text/x-python",
   "name": "python",
   "nbconvert_exporter": "python",
   "pygments_lexer": "ipython3",
   "version": "3.11.5"
  }
 },
 "nbformat": 4,
 "nbformat_minor": 5
}
