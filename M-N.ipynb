{
 "cells": [
  {
   "cell_type": "markdown",
   "id": "77f38b4c",
   "metadata": {},
   "source": [
    "## Импорты и данные"
   ]
  },
  {
   "cell_type": "code",
   "execution_count": 1,
   "id": "08e3c24a",
   "metadata": {},
   "outputs": [],
   "source": [
    "import pandas as pd\n",
    "import numpy as np"
   ]
  },
  {
   "cell_type": "code",
   "execution_count": 2,
   "id": "15f3a803",
   "metadata": {},
   "outputs": [
    {
     "data": {
      "text/html": [
       "<div>\n",
       "<style scoped>\n",
       "    .dataframe tbody tr th:only-of-type {\n",
       "        vertical-align: middle;\n",
       "    }\n",
       "\n",
       "    .dataframe tbody tr th {\n",
       "        vertical-align: top;\n",
       "    }\n",
       "\n",
       "    .dataframe thead th {\n",
       "        text-align: right;\n",
       "    }\n",
       "</style>\n",
       "<table border=\"1\" class=\"dataframe\">\n",
       "  <thead>\n",
       "    <tr style=\"text-align: right;\">\n",
       "      <th></th>\n",
       "      <th>user_id</th>\n",
       "      <th>gmv</th>\n",
       "    </tr>\n",
       "  </thead>\n",
       "  <tbody>\n",
       "    <tr>\n",
       "      <th>0</th>\n",
       "      <td>guo0pdwqvg</td>\n",
       "      <td>506</td>\n",
       "    </tr>\n",
       "    <tr>\n",
       "      <th>1</th>\n",
       "      <td>guo0pdwqvg</td>\n",
       "      <td>760</td>\n",
       "    </tr>\n",
       "    <tr>\n",
       "      <th>2</th>\n",
       "      <td>guo0pdwqvg</td>\n",
       "      <td>633</td>\n",
       "    </tr>\n",
       "    <tr>\n",
       "      <th>3</th>\n",
       "      <td>guo0pdwqvg</td>\n",
       "      <td>506</td>\n",
       "    </tr>\n",
       "    <tr>\n",
       "      <th>4</th>\n",
       "      <td>guo0pdwqvg</td>\n",
       "      <td>760</td>\n",
       "    </tr>\n",
       "    <tr>\n",
       "      <th>...</th>\n",
       "      <td>...</td>\n",
       "      <td>...</td>\n",
       "    </tr>\n",
       "    <tr>\n",
       "      <th>1601988</th>\n",
       "      <td>3vbm7rz5vu</td>\n",
       "      <td>910</td>\n",
       "    </tr>\n",
       "    <tr>\n",
       "      <th>1601989</th>\n",
       "      <td>3vbm7rz5vu</td>\n",
       "      <td>809</td>\n",
       "    </tr>\n",
       "    <tr>\n",
       "      <th>1601990</th>\n",
       "      <td>3vbm7rz5vu</td>\n",
       "      <td>1011</td>\n",
       "    </tr>\n",
       "    <tr>\n",
       "      <th>1601991</th>\n",
       "      <td>npbrhympo0</td>\n",
       "      <td>1349</td>\n",
       "    </tr>\n",
       "    <tr>\n",
       "      <th>1601992</th>\n",
       "      <td>npbrhympo0</td>\n",
       "      <td>1124</td>\n",
       "    </tr>\n",
       "  </tbody>\n",
       "</table>\n",
       "<p>1601993 rows × 2 columns</p>\n",
       "</div>"
      ],
      "text/plain": [
       "            user_id   gmv\n",
       "0        guo0pdwqvg   506\n",
       "1        guo0pdwqvg   760\n",
       "2        guo0pdwqvg   633\n",
       "3        guo0pdwqvg   506\n",
       "4        guo0pdwqvg   760\n",
       "...             ...   ...\n",
       "1601988  3vbm7rz5vu   910\n",
       "1601989  3vbm7rz5vu   809\n",
       "1601990  3vbm7rz5vu  1011\n",
       "1601991  npbrhympo0  1349\n",
       "1601992  npbrhympo0  1124\n",
       "\n",
       "[1601993 rows x 2 columns]"
      ]
     },
     "execution_count": 2,
     "metadata": {},
     "output_type": "execute_result"
    }
   ],
   "source": [
    "df = pd.read_csv('synthetic_gmv_data_1.1.csv')\n",
    "df"
   ]
  },
  {
   "cell_type": "code",
   "execution_count": 3,
   "id": "d1352b72",
   "metadata": {},
   "outputs": [],
   "source": [
    "agg_df = df.groupby('user_id').agg({'gmv': 'sum'})"
   ]
  },
  {
   "cell_type": "code",
   "execution_count": 4,
   "id": "0edb0bc7",
   "metadata": {},
   "outputs": [
    {
     "data": {
      "text/html": [
       "<div>\n",
       "<style scoped>\n",
       "    .dataframe tbody tr th:only-of-type {\n",
       "        vertical-align: middle;\n",
       "    }\n",
       "\n",
       "    .dataframe tbody tr th {\n",
       "        vertical-align: top;\n",
       "    }\n",
       "\n",
       "    .dataframe thead th {\n",
       "        text-align: right;\n",
       "    }\n",
       "</style>\n",
       "<table border=\"1\" class=\"dataframe\">\n",
       "  <thead>\n",
       "    <tr style=\"text-align: right;\">\n",
       "      <th></th>\n",
       "      <th>gmv</th>\n",
       "    </tr>\n",
       "    <tr>\n",
       "      <th>user_id</th>\n",
       "      <th></th>\n",
       "    </tr>\n",
       "  </thead>\n",
       "  <tbody>\n",
       "    <tr>\n",
       "      <th>0001ffmxo2</th>\n",
       "      <td>3766</td>\n",
       "    </tr>\n",
       "    <tr>\n",
       "      <th>000c2glbkl</th>\n",
       "      <td>2456</td>\n",
       "    </tr>\n",
       "    <tr>\n",
       "      <th>000c5yxi7t</th>\n",
       "      <td>700</td>\n",
       "    </tr>\n",
       "    <tr>\n",
       "      <th>000eg9ozf2</th>\n",
       "      <td>5082</td>\n",
       "    </tr>\n",
       "    <tr>\n",
       "      <th>000h7yt1ve</th>\n",
       "      <td>2539</td>\n",
       "    </tr>\n",
       "    <tr>\n",
       "      <th>...</th>\n",
       "      <td>...</td>\n",
       "    </tr>\n",
       "    <tr>\n",
       "      <th>zzygjcccc6</th>\n",
       "      <td>4024</td>\n",
       "    </tr>\n",
       "    <tr>\n",
       "      <th>zzysosye5a</th>\n",
       "      <td>2161</td>\n",
       "    </tr>\n",
       "    <tr>\n",
       "      <th>zzz477h6q2</th>\n",
       "      <td>1995</td>\n",
       "    </tr>\n",
       "    <tr>\n",
       "      <th>zzz7zfdfn0</th>\n",
       "      <td>9539</td>\n",
       "    </tr>\n",
       "    <tr>\n",
       "      <th>zzz9ykyfbt</th>\n",
       "      <td>943</td>\n",
       "    </tr>\n",
       "  </tbody>\n",
       "</table>\n",
       "<p>392718 rows × 1 columns</p>\n",
       "</div>"
      ],
      "text/plain": [
       "             gmv\n",
       "user_id         \n",
       "0001ffmxo2  3766\n",
       "000c2glbkl  2456\n",
       "000c5yxi7t   700\n",
       "000eg9ozf2  5082\n",
       "000h7yt1ve  2539\n",
       "...          ...\n",
       "zzygjcccc6  4024\n",
       "zzysosye5a  2161\n",
       "zzz477h6q2  1995\n",
       "zzz7zfdfn0  9539\n",
       "zzz9ykyfbt   943\n",
       "\n",
       "[392718 rows x 1 columns]"
      ]
     },
     "execution_count": 4,
     "metadata": {},
     "output_type": "execute_result"
    }
   ],
   "source": [
    "agg_df"
   ]
  },
  {
   "cell_type": "markdown",
   "id": "95d63c23",
   "metadata": {},
   "source": [
    "# M"
   ]
  },
  {
   "cell_type": "code",
   "execution_count": 4,
   "id": "f2a3962c",
   "metadata": {},
   "outputs": [
    {
     "data": {
      "text/plain": [
       "(2750.847, 3646228.409)"
      ]
     },
     "execution_count": 4,
     "metadata": {},
     "output_type": "execute_result"
    }
   ],
   "source": [
    "round(agg_df.gmv.mean(), 3), round(agg_df.gmv.var(), 3)"
   ]
  },
  {
   "cell_type": "markdown",
   "id": "9c62b126",
   "metadata": {},
   "source": [
    "# N. MDE"
   ]
  },
  {
   "cell_type": "code",
   "execution_count": 19,
   "id": "338a6703",
   "metadata": {},
   "outputs": [],
   "source": [
    "import scipy.stats as stats\n",
    "import math"
   ]
  },
  {
   "cell_type": "code",
   "execution_count": null,
   "id": "1668066c",
   "metadata": {},
   "outputs": [],
   "source": [
    "# sigma_1 = sigma_2 - дисперсии равны\n",
    "# c = 3t - контроль в три раза больше теста\n",
    "\n",
    "var = round(agg_df.gmv.var(), 3)\n",
    "mean = round(agg_df.gmv.mean(), 3)\n",
    "mde = 0.01\n",
    "alpha = 0.05\n",
    "beta = 0.2\n",
    "\n",
    "k = 3\n",
    "effect = mean * mde"
   ]
  },
  {
   "cell_type": "code",
   "execution_count": 20,
   "id": "af444918",
   "metadata": {},
   "outputs": [],
   "source": [
    "def size_mde(sigma, effect, k=1, alpha=0.05, beta=0.2):\n",
    "    dist = stats.norm(loc=0, scale=1)\n",
    "    const = (dist.ppf(1-alpha/2) + dist.ppf(1-beta))**2\n",
    "    var = sigma**2\n",
    "    return const * (1+k)*var / (effect**2)"
   ]
  },
  {
   "cell_type": "code",
   "execution_count": 24,
   "id": "d8cf2b62",
   "metadata": {},
   "outputs": [
    {
     "data": {
      "text/plain": [
       "(50427, 151280, 201707)"
      ]
     },
     "execution_count": 24,
     "metadata": {},
     "output_type": "execute_result"
    }
   ],
   "source": [
    "m = size_mde(sigma=np.sqrt(var), k=k, effect=effect, alpha=alpha, beta=beta)\n",
    "n = m / k\n",
    "math.ceil(n), math.ceil(m), math.ceil(n)+math.ceil(m)"
   ]
  }
 ],
 "metadata": {
  "kernelspec": {
   "display_name": "base",
   "language": "python",
   "name": "python3"
  },
  "language_info": {
   "codemirror_mode": {
    "name": "ipython",
    "version": 3
   },
   "file_extension": ".py",
   "mimetype": "text/x-python",
   "name": "python",
   "nbconvert_exporter": "python",
   "pygments_lexer": "ipython3",
   "version": "3.11.5"
  }
 },
 "nbformat": 4,
 "nbformat_minor": 5
}
