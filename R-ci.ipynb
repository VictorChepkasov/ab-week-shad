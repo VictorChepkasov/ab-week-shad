{
 "cells": [
  {
   "cell_type": "markdown",
   "id": "7599aac6",
   "metadata": {},
   "source": [
    "## Импорты и данные"
   ]
  },
  {
   "cell_type": "code",
   "execution_count": 173,
   "id": "3628c872",
   "metadata": {},
   "outputs": [],
   "source": [
    "import pandas as pd\n",
    "import numpy as np\n",
    "import scipy.stats as stats\n",
    "\n",
    "import seaborn as sns\n",
    "sns.set_theme()"
   ]
  },
  {
   "cell_type": "code",
   "execution_count": 174,
   "id": "b3ffc163",
   "metadata": {},
   "outputs": [
    {
     "data": {
      "text/html": [
       "<div>\n",
       "<style scoped>\n",
       "    .dataframe tbody tr th:only-of-type {\n",
       "        vertical-align: middle;\n",
       "    }\n",
       "\n",
       "    .dataframe tbody tr th {\n",
       "        vertical-align: top;\n",
       "    }\n",
       "\n",
       "    .dataframe thead th {\n",
       "        text-align: right;\n",
       "    }\n",
       "</style>\n",
       "<table border=\"1\" class=\"dataframe\">\n",
       "  <thead>\n",
       "    <tr style=\"text-align: right;\">\n",
       "      <th></th>\n",
       "      <th>user_id</th>\n",
       "      <th>gmv</th>\n",
       "      <th>group_name</th>\n",
       "    </tr>\n",
       "  </thead>\n",
       "  <tbody>\n",
       "    <tr>\n",
       "      <th>0</th>\n",
       "      <td>myo4ixol31</td>\n",
       "      <td>1428</td>\n",
       "      <td>test</td>\n",
       "    </tr>\n",
       "    <tr>\n",
       "      <th>1</th>\n",
       "      <td>myo4ixol31</td>\n",
       "      <td>1428</td>\n",
       "      <td>test</td>\n",
       "    </tr>\n",
       "    <tr>\n",
       "      <th>2</th>\n",
       "      <td>myo4ixol31</td>\n",
       "      <td>1071</td>\n",
       "      <td>test</td>\n",
       "    </tr>\n",
       "    <tr>\n",
       "      <th>3</th>\n",
       "      <td>myo4ixol31</td>\n",
       "      <td>1071</td>\n",
       "      <td>test</td>\n",
       "    </tr>\n",
       "    <tr>\n",
       "      <th>4</th>\n",
       "      <td>pkzf2889ww</td>\n",
       "      <td>351</td>\n",
       "      <td>test</td>\n",
       "    </tr>\n",
       "    <tr>\n",
       "      <th>...</th>\n",
       "      <td>...</td>\n",
       "      <td>...</td>\n",
       "      <td>...</td>\n",
       "    </tr>\n",
       "    <tr>\n",
       "      <th>799056</th>\n",
       "      <td>egoeez9fs9</td>\n",
       "      <td>712</td>\n",
       "      <td>control</td>\n",
       "    </tr>\n",
       "    <tr>\n",
       "      <th>799057</th>\n",
       "      <td>egoeez9fs9</td>\n",
       "      <td>641</td>\n",
       "      <td>control</td>\n",
       "    </tr>\n",
       "    <tr>\n",
       "      <th>799058</th>\n",
       "      <td>egoeez9fs9</td>\n",
       "      <td>855</td>\n",
       "      <td>control</td>\n",
       "    </tr>\n",
       "    <tr>\n",
       "      <th>799059</th>\n",
       "      <td>da9kujvymq</td>\n",
       "      <td>1110</td>\n",
       "      <td>control</td>\n",
       "    </tr>\n",
       "    <tr>\n",
       "      <th>799060</th>\n",
       "      <td>da9kujvymq</td>\n",
       "      <td>1332</td>\n",
       "      <td>control</td>\n",
       "    </tr>\n",
       "  </tbody>\n",
       "</table>\n",
       "<p>799061 rows × 3 columns</p>\n",
       "</div>"
      ],
      "text/plain": [
       "           user_id   gmv group_name\n",
       "0       myo4ixol31  1428       test\n",
       "1       myo4ixol31  1428       test\n",
       "2       myo4ixol31  1071       test\n",
       "3       myo4ixol31  1071       test\n",
       "4       pkzf2889ww   351       test\n",
       "...            ...   ...        ...\n",
       "799056  egoeez9fs9   712    control\n",
       "799057  egoeez9fs9   641    control\n",
       "799058  egoeez9fs9   855    control\n",
       "799059  da9kujvymq  1110    control\n",
       "799060  da9kujvymq  1332    control\n",
       "\n",
       "[799061 rows x 3 columns]"
      ]
     },
     "execution_count": 174,
     "metadata": {},
     "output_type": "execute_result"
    }
   ],
   "source": [
    "df = pd.read_csv('synthetic_gmv_data_1.2.csv')\n",
    "df"
   ]
  },
  {
   "cell_type": "code",
   "execution_count": 301,
   "id": "e869da55",
   "metadata": {},
   "outputs": [
    {
     "data": {
      "text/html": [
       "<div>\n",
       "<style scoped>\n",
       "    .dataframe tbody tr th:only-of-type {\n",
       "        vertical-align: middle;\n",
       "    }\n",
       "\n",
       "    .dataframe tbody tr th {\n",
       "        vertical-align: top;\n",
       "    }\n",
       "\n",
       "    .dataframe thead th {\n",
       "        text-align: right;\n",
       "    }\n",
       "</style>\n",
       "<table border=\"1\" class=\"dataframe\">\n",
       "  <thead>\n",
       "    <tr style=\"text-align: right;\">\n",
       "      <th></th>\n",
       "      <th>group_name</th>\n",
       "      <th>gmv</th>\n",
       "      <th>user_id</th>\n",
       "    </tr>\n",
       "  </thead>\n",
       "  <tbody>\n",
       "    <tr>\n",
       "      <th>0</th>\n",
       "      <td>control</td>\n",
       "      <td>733</td>\n",
       "      <td>1</td>\n",
       "    </tr>\n",
       "    <tr>\n",
       "      <th>1</th>\n",
       "      <td>test</td>\n",
       "      <td>3187</td>\n",
       "      <td>3</td>\n",
       "    </tr>\n",
       "    <tr>\n",
       "      <th>2</th>\n",
       "      <td>control</td>\n",
       "      <td>2933</td>\n",
       "      <td>6</td>\n",
       "    </tr>\n",
       "    <tr>\n",
       "      <th>3</th>\n",
       "      <td>test</td>\n",
       "      <td>1695</td>\n",
       "      <td>5</td>\n",
       "    </tr>\n",
       "    <tr>\n",
       "      <th>4</th>\n",
       "      <td>control</td>\n",
       "      <td>1496</td>\n",
       "      <td>4</td>\n",
       "    </tr>\n",
       "    <tr>\n",
       "      <th>...</th>\n",
       "      <td>...</td>\n",
       "      <td>...</td>\n",
       "      <td>...</td>\n",
       "    </tr>\n",
       "    <tr>\n",
       "      <th>196386</th>\n",
       "      <td>test</td>\n",
       "      <td>1141</td>\n",
       "      <td>2</td>\n",
       "    </tr>\n",
       "    <tr>\n",
       "      <th>196387</th>\n",
       "      <td>control</td>\n",
       "      <td>2364</td>\n",
       "      <td>4</td>\n",
       "    </tr>\n",
       "    <tr>\n",
       "      <th>196388</th>\n",
       "      <td>test</td>\n",
       "      <td>1923</td>\n",
       "      <td>4</td>\n",
       "    </tr>\n",
       "    <tr>\n",
       "      <th>196389</th>\n",
       "      <td>control</td>\n",
       "      <td>1235</td>\n",
       "      <td>2</td>\n",
       "    </tr>\n",
       "    <tr>\n",
       "      <th>196390</th>\n",
       "      <td>control</td>\n",
       "      <td>3579</td>\n",
       "      <td>5</td>\n",
       "    </tr>\n",
       "  </tbody>\n",
       "</table>\n",
       "<p>196391 rows × 3 columns</p>\n",
       "</div>"
      ],
      "text/plain": [
       "       group_name   gmv  user_id\n",
       "0         control   733        1\n",
       "1            test  3187        3\n",
       "2         control  2933        6\n",
       "3            test  1695        5\n",
       "4         control  1496        4\n",
       "...           ...   ...      ...\n",
       "196386       test  1141        2\n",
       "196387    control  2364        4\n",
       "196388       test  1923        4\n",
       "196389    control  1235        2\n",
       "196390    control  3579        5\n",
       "\n",
       "[196391 rows x 3 columns]"
      ]
     },
     "execution_count": 301,
     "metadata": {},
     "output_type": "execute_result"
    }
   ],
   "source": [
    "data = df.groupby(['user_id', 'group_name'], as_index=False).agg({'gmv': 'sum', 'user_id':'count'})\n",
    "a = data.loc[data.group_name == 'control']\n",
    "b = data.loc[data.group_name == 'test']\n",
    "data"
   ]
  },
  {
   "cell_type": "code",
   "execution_count": 302,
   "id": "3a155ffb",
   "metadata": {},
   "outputs": [
    {
     "name": "stderr",
     "output_type": "stream",
     "text": [
      "/home/victor/anaconda3/lib/python3.11/site-packages/seaborn/_oldcore.py:1498: FutureWarning: is_categorical_dtype is deprecated and will be removed in a future version. Use isinstance(dtype, CategoricalDtype) instead\n",
      "  if pd.api.types.is_categorical_dtype(vector):\n",
      "/home/victor/anaconda3/lib/python3.11/site-packages/seaborn/_oldcore.py:1498: FutureWarning: is_categorical_dtype is deprecated and will be removed in a future version. Use isinstance(dtype, CategoricalDtype) instead\n",
      "  if pd.api.types.is_categorical_dtype(vector):\n",
      "/home/victor/anaconda3/lib/python3.11/site-packages/seaborn/_oldcore.py:1498: FutureWarning: is_categorical_dtype is deprecated and will be removed in a future version. Use isinstance(dtype, CategoricalDtype) instead\n",
      "  if pd.api.types.is_categorical_dtype(vector):\n",
      "/home/victor/anaconda3/lib/python3.11/site-packages/seaborn/_oldcore.py:1498: FutureWarning: is_categorical_dtype is deprecated and will be removed in a future version. Use isinstance(dtype, CategoricalDtype) instead\n",
      "  if pd.api.types.is_categorical_dtype(vector):\n",
      "/home/victor/anaconda3/lib/python3.11/site-packages/seaborn/_oldcore.py:1119: FutureWarning: use_inf_as_na option is deprecated and will be removed in a future version. Convert inf values to NaN before operating instead.\n",
      "  with pd.option_context('mode.use_inf_as_na', True):\n"
     ]
    },
    {
     "data": {
      "text/plain": [
       "<Axes: xlabel='gmv', ylabel='Count'>"
      ]
     },
     "execution_count": 302,
     "metadata": {},
     "output_type": "execute_result"
    },
    {
     "data": {
      "image/png": "[encoded data removed]",
      "text/plain": [
       "<Figure size 640x480 with 1 Axes>"
      ]
     },
     "metadata": {},
     "output_type": "display_data"
    }
   ],
   "source": [
    "sns.histplot(data=data, x='gmv', hue='group_name', multiple='stack')"
   ]
  },
  {
   "cell_type": "code",
   "execution_count": 330,
   "id": "d206c3ca",
   "metadata": {},
   "outputs": [],
   "source": [
    "def safe_divide(x, y):\n",
    "    try:\n",
    "        return x / y\n",
    "    except ZeroDivisionError:\n",
    "        return np.nan\n",
    "    \n",
    "def delta_var(numerator, denominator):\n",
    "    x = numerator\n",
    "    y = denominator\n",
    "    n = len(x)\n",
    "    mu_x = np.mean(x)\n",
    "    mu_y = np.mean(y)\n",
    "    var_x = np.var(x, ddof=1)\n",
    "    var_y = np.var(y, ddof=1)\n",
    "    cov_xy = np.cov(x, y, ddof=1)[0][1]    \n",
    "    delta_var = safe_divide(safe_divide(var_x,mu_y**2)  - 2*cov_xy*safe_divide(mu_x,mu_y**3) + var_y*safe_divide(mu_x**2,mu_y**4), n)\n",
    "    return delta_var\n",
    "\n",
    "def delta_value(x_num, y_num):\n",
    "    t_stat, p_value = stats.ttest_ind(x_num, y_num, equal_var=False)\n",
    "    return t_stat, p_value\n",
    "\n",
    "def delta_ratio(x_num, x_denom, y_num, y_denom):\n",
    "    n = len(x_num)\n",
    "    m = len(y_num)\n",
    "    test_var = delta_var(x_num, x_denom)\n",
    "    control_var = delta_var(y_num, y_denom)\n",
    "    sigma = np.sqrt(test_var + control_var)\n",
    "    delta_estimator = safe_divide(np.mean(x_num), np.mean(x_denom)) - safe_divide(np.mean(y_num), np.mean(y_denom))\n",
    "    tt = safe_divide(delta_estimator, sigma)\n",
    "    p_value = 2*stats.t.sf(np.abs(tt),n+m-2)\n",
    "    return tt, p_value"
   ]
  },
  {
   "cell_type": "markdown",
   "id": "07158805",
   "metadata": {},
   "source": [
    "# Оценка доверительных интервалов"
   ]
  },
  {
   "cell_type": "markdown",
   "id": "8de55843",
   "metadata": {},
   "source": [
    "Уточню, что только за эту задачу у меня нет баллов, поэтому смотрите свозь пальцы"
   ]
  },
  {
   "cell_type": "code",
   "execution_count": 332,
   "id": "2c8363cf",
   "metadata": {},
   "outputs": [],
   "source": [
    "# эти переменные далее изменяться не будут\n",
    "alpha = 0.05\n",
    "n = a.gmv.shape[0]\n",
    "m = b.gmv.shape[0]"
   ]
  },
  {
   "cell_type": "markdown",
   "id": "0a347ccc",
   "metadata": {},
   "source": [
    "## GMV $\\delta$ (value)"
   ]
  },
  {
   "cell_type": "code",
   "execution_count": 333,
   "id": "71534ab6",
   "metadata": {},
   "outputs": [
    {
     "data": {
      "text/plain": [
       "(2870.650366598778, 2870.650366598778)"
      ]
     },
     "execution_count": 333,
     "metadata": {},
     "output_type": "execute_result"
    }
   ],
   "source": [
    "b.gmv.mean(), b.gmv.mean() "
   ]
  },
  {
   "cell_type": "code",
   "execution_count": 334,
   "id": "905c9996",
   "metadata": {},
   "outputs": [
    {
     "name": "stdout",
     "output_type": "stream",
     "text": [
      "Sigma: 9.928\n",
      "Delta GMV: 23.433\n",
      "CI: [13.79, 33.077]\n"
     ]
    }
   ],
   "source": [
    "test_var = delta_var(a.gmv, np.ones(a.gmv.shape[0]))\n",
    "control_var = delta_var(b.gmv, np.ones(b.gmv.shape[0]))\n",
    "sigma = np.sqrt(test_var + control_var)\n",
    "print(f'Sigma: {round(sigma, 3)}')\n",
    "\n",
    "delta = b.gmv.mean() - a.gmv.mean() \n",
    "print(f'Delta GMV: {(round(delta, 3))}')\n",
    "\n",
    "l = round(delta - stats.t.ppf(1-alpha/2, n+m-2) * np.sqrt(test_var), 3)\n",
    "r = round(delta + stats.t.ppf(1-alpha/2, n+m-2) * np.sqrt(test_var), 3)\n",
    "\n",
    "print(f'CI: [{l}, {r}]')"
   ]
  },
  {
   "cell_type": "markdown",
   "id": "344a3966",
   "metadata": {},
   "source": [
    "## GMV $\\delta$% (value uplift)"
   ]
  },
  {
   "cell_type": "code",
   "execution_count": 335,
   "id": "72077568",
   "metadata": {},
   "outputs": [
    {
     "name": "stdout",
     "output_type": "stream",
     "text": [
      "Delta GMV%: 0.823%\n",
      "CI: [-18.635, 20.281]\n"
     ]
    }
   ],
   "source": [
    "delta = 100 * (b.gmv.mean() - a.gmv.mean()) / a.gmv.mean() \n",
    "print(f'Delta GMV%: {round(delta, 3)}%')\n",
    "\n",
    "l = round(delta - stats.t.ppf(1-alpha/2, n+m-2) * sigma, 3)\n",
    "r = round(delta + stats.t.ppf(1-alpha/2, n+m-2) * sigma, 3)\n",
    "\n",
    "print(f'CI: [{l}, {r}]')"
   ]
  },
  {
   "cell_type": "markdown",
   "id": "2af6dbe8",
   "metadata": {},
   "source": [
    "## AOV $\\delta$ (ratio)"
   ]
  },
  {
   "cell_type": "markdown",
   "id": "6688dc4b",
   "metadata": {},
   "source": [
    "AOV - средний чек  \n",
    "AOV = data.GMV / data.user_id"
   ]
  },
  {
   "cell_type": "code",
   "execution_count": 336,
   "id": "300d5cae",
   "metadata": {},
   "outputs": [
    {
     "name": "stdout",
     "output_type": "stream",
     "text": [
      "Rc: 704.206 \n",
      "Rt: 700.223\n"
     ]
    }
   ],
   "source": [
    "rt = a.gmv.mean() / a.user_id.mean()\n",
    "rc = b.gmv.mean() / b.user_id.mean()\n",
    "\n",
    "print(f'Rc: {round(rc, 3)} \\nRt: {round(rt, 3)}')"
   ]
  },
  {
   "cell_type": "code",
   "execution_count": 326,
   "id": "ca7c26df",
   "metadata": {},
   "outputs": [
    {
     "name": "stderr",
     "output_type": "stream",
     "text": [
      "/home/victor/anaconda3/lib/python3.11/site-packages/seaborn/_oldcore.py:1498: FutureWarning: is_categorical_dtype is deprecated and will be removed in a future version. Use isinstance(dtype, CategoricalDtype) instead\n",
      "  if pd.api.types.is_categorical_dtype(vector):\n",
      "/home/victor/anaconda3/lib/python3.11/site-packages/seaborn/_oldcore.py:1498: FutureWarning: is_categorical_dtype is deprecated and will be removed in a future version. Use isinstance(dtype, CategoricalDtype) instead\n",
      "  if pd.api.types.is_categorical_dtype(vector):\n",
      "/home/victor/anaconda3/lib/python3.11/site-packages/seaborn/_oldcore.py:1498: FutureWarning: is_categorical_dtype is deprecated and will be removed in a future version. Use isinstance(dtype, CategoricalDtype) instead\n",
      "  if pd.api.types.is_categorical_dtype(vector):\n",
      "/home/victor/anaconda3/lib/python3.11/site-packages/seaborn/_oldcore.py:1498: FutureWarning: is_categorical_dtype is deprecated and will be removed in a future version. Use isinstance(dtype, CategoricalDtype) instead\n",
      "  if pd.api.types.is_categorical_dtype(vector):\n",
      "/home/victor/anaconda3/lib/python3.11/site-packages/seaborn/_oldcore.py:1119: FutureWarning: use_inf_as_na option is deprecated and will be removed in a future version. Convert inf values to NaN before operating instead.\n",
      "  with pd.option_context('mode.use_inf_as_na', True):\n"
     ]
    },
    {
     "data": {
      "text/plain": [
       "<Axes: ylabel='Count'>"
      ]
     },
     "execution_count": 326,
     "metadata": {},
     "output_type": "execute_result"
    },
    {
     "data": {
      "image/png": "[encoded data removed]",
      "text/plain": [
       "<Figure size 640x480 with 1 Axes>"
      ]
     },
     "metadata": {},
     "output_type": "display_data"
    }
   ],
   "source": [
    "sns.histplot(data=data, x=data.gmv/data.user_id, hue='group_name', multiple='stack')"
   ]
  },
  {
   "cell_type": "code",
   "execution_count": 337,
   "id": "558acfb1",
   "metadata": {},
   "outputs": [
    {
     "name": "stdout",
     "output_type": "stream",
     "text": [
      "Sigma: 1.699\n",
      "Delta AOV: -3.982\n",
      "CI: [-7.313, -0.652]\n"
     ]
    }
   ],
   "source": [
    "test_var = delta_var(a.gmv, a.user_id)\n",
    "control_var = delta_var(b.gmv, b.user_id)\n",
    "sigma = np.sqrt(test_var + control_var)\n",
    "print(f'Sigma: {round(sigma, 3)}')\n",
    "\n",
    "delta = (a.gmv.mean()/a.user_id.mean()) - (b.gmv.mean()/b.user_id.mean())\n",
    "print(f'Delta AOV: {round(delta, 3)}')\n",
    "\n",
    "l = round(delta - stats.t.ppf(1-alpha/2, n+m-2) * sigma, 3)\n",
    "r = round(delta + stats.t.ppf(1-alpha/2, n+m-2) * sigma, 3)\n",
    "\n",
    "print(f'CI: [{l}, {r}]')"
   ]
  },
  {
   "cell_type": "markdown",
   "id": "94989d62",
   "metadata": {},
   "source": [
    "## AOV $\\delta$% (ratio uplift)"
   ]
  },
  {
   "cell_type": "code",
   "execution_count": 338,
   "id": "fd61e7e1",
   "metadata": {},
   "outputs": [
    {
     "name": "stdout",
     "output_type": "stream",
     "text": [
      "Delta AOV%: -0.566%\n",
      "CI: [-3.896, 2.765]\n"
     ]
    }
   ],
   "source": [
    "delta_percent = 100 * (rt - rc) / (rc)\n",
    "print(f'Delta AOV%: {round(delta_percent, 3)}%')\n",
    "\n",
    "l = round(delta_percent - stats.t.ppf(1-alpha/2, n+m-2) * sigma, 3)\n",
    "r = round(delta_percent + stats.t.ppf(1-alpha/2, n+m-2) * sigma, 3)\n",
    "\n",
    "print(f'CI: [{l}, {r}]')"
   ]
  }
 ],
 "metadata": {
  "kernelspec": {
   "display_name": "base",
   "language": "python",
   "name": "python3"
  },
  "language_info": {
   "codemirror_mode": {
    "name": "ipython",
    "version": 3
   },
   "file_extension": ".py",
   "mimetype": "text/x-python",
   "name": "python",
   "nbconvert_exporter": "python",
   "pygments_lexer": "ipython3",
   "version": "3.11.5"
  }
 },
 "nbformat": 4,
 "nbformat_minor": 5
}
